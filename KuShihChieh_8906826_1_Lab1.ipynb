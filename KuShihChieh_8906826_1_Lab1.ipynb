{
 "cells": [
  {
   "cell_type": "code",
   "execution_count": 32,
   "metadata": {},
   "outputs": [],
   "source": [
    "import numpy as np"
   ]
  },
  {
   "cell_type": "markdown",
   "metadata": {},
   "source": [
    "## Part A- Create a Notebook to demonstrate NumPy Operations. [35 Points]"
   ]
  },
  {
   "cell_type": "markdown",
   "metadata": {},
   "source": [
    "### 1. Create an array that starts from the integer 1, ends at 20, incremented by 3."
   ]
  },
  {
   "cell_type": "code",
   "execution_count": 33,
   "metadata": {},
   "outputs": [
    {
     "data": {
      "text/plain": [
       "array([ 1,  4,  7, 10, 13, 16, 19])"
      ]
     },
     "execution_count": 33,
     "metadata": {},
     "output_type": "execute_result"
    }
   ],
   "source": [
    "firstArr = np.arange(start=1,stop=20, step=3)\n",
    "firstArr"
   ]
  },
  {
   "cell_type": "markdown",
   "metadata": {},
   "source": [
    "### 2. Create a new array of shape 3 with random numbers between 0 and 1."
   ]
  },
  {
   "cell_type": "code",
   "execution_count": 34,
   "metadata": {},
   "outputs": [
    {
     "data": {
      "text/plain": [
       "array([0.16377799, 0.22510986, 0.92428365])"
      ]
     },
     "execution_count": 34,
     "metadata": {},
     "output_type": "execute_result"
    }
   ],
   "source": [
    "secondArr = np.random.rand(3)\n",
    "secondArr"
   ]
  },
  {
   "cell_type": "markdown",
   "metadata": {},
   "source": [
    "### 3. Create a 2 D array [[10,20,45],[30,12,16],[42,17,56]] and perform the following operations:\n",
    "Slice the 2D array to get the first two rows, slice the 2D array to get the last two rows.\n"
   ]
  },
  {
   "cell_type": "code",
   "execution_count": 35,
   "metadata": {},
   "outputs": [
    {
     "name": "stdout",
     "output_type": "stream",
     "text": [
      "First two row:\n",
      " [[10 20 45]\n",
      " [30 12 16]]\n",
      "\n",
      "Last two row:\n",
      " [[30 12 16]\n",
      " [42 17 56]]\n",
      "\n"
     ]
    }
   ],
   "source": [
    "thirdArr = np.array([[10, 20, 45], [30, 12, 16], [42, 17, 56]])\n",
    "print(\"First two row:\\n\", f\"{thirdArr[0:2]}\\n\")\n",
    "print(\"Last two row:\\n\", f\"{thirdArr[1:3]}\\n\")"
   ]
  },
  {
   "cell_type": "markdown",
   "metadata": {},
   "source": [
    "### 4. Create two 2x2 arrays and demonstrate how you can stack the elements vertically, horizontally, and split the arrays into smaller arrays."
   ]
  },
  {
   "cell_type": "code",
   "execution_count": 36,
   "metadata": {},
   "outputs": [
    {
     "name": "stdout",
     "output_type": "stream",
     "text": [
      "[[2 1]\n",
      " [2 4]\n",
      " [6 5]]\n",
      "[[2 1 6]\n",
      " [2 4 5]]\n",
      "[array([[2, 1, 6]]), array([[2, 4, 5]])]\n"
     ]
    }
   ],
   "source": [
    "fourthArr_1 = np.array([[2, 1], [2, 4]])\n",
    "fourthArr_2 = np.array([[6, 5]])\n",
    "\n",
    "vertical_adding = np.vstack((fourthArr_1, fourthArr_2))\n",
    "print(vertical_adding)\n",
    "horizontally_adding = np.hstack((fourthArr_1, fourthArr_2.reshape(2, -1)))\n",
    "print(horizontally_adding)\n",
    "\n",
    "split_arr = np.split(horizontally_adding, 2)\n",
    "print(split_arr)"
   ]
  },
  {
   "cell_type": "markdown",
   "metadata": {},
   "source": [
    "### Create two matrices 𝑋 = ([[5, 7, 2],[4, 5, 6],[7, 4 ,2]]), 𝑌 = ([[4, 2],[6, 2],[4, 2]])\n",
    "- Is it possible to multiply these matrices?\\\n",
    "=> No, it couldn't to multiply with above array.\n",
    "- Demonstrate the case when it is not possible to.\\\n",
    "=> The reason is that they have different shape. Otherwise, they should share same shape, like (3, 3) or (3 ,2)"
   ]
  },
  {
   "cell_type": "code",
   "execution_count": 37,
   "metadata": {},
   "outputs": [
    {
     "name": "stdout",
     "output_type": "stream",
     "text": [
      "- Is it possible to multiply these matrices? \n",
      " => No, it couldn't to multiply with above array. Occur ValueError: operands could not be broadcast together with shapes (3,3) (3,2)\n",
      "- Demonstrate the case when it is not possible to.\n",
      " => The reason is that they have different shape. Otherwise, they should share same shape, like (3, 3) or (3 ,2)\n"
     ]
    }
   ],
   "source": [
    "x = np.array([[5, 7, 2],[4, 5, 6],[7, 4 ,2]])\n",
    "y = np.array([[4, 2],[6, 2],[4, 2]])\n",
    "# np.multiply(x, y) => Occur ValueError: operands could not be broadcast together with shapes (3,3) (3,2)\n",
    "print(\"- Is it possible to multiply these matrices? \\n => No, it couldn't to multiply with above array. Occur ValueError: operands could not be broadcast together with shapes (3,3) (3,2)\\n- Demonstrate the case when it is not possible to.\\n => The reason is that they have different shape. Otherwise, they should share same shape, like (3, 3) or (3 ,2)\")"
   ]
  },
  {
   "cell_type": "markdown",
   "metadata": {},
   "source": [
    "### 6. Create two arrays, 𝑥 = ([2, −1, −8]) 𝑦 = ([3, 1, −2]),\n",
    "- Find the Shape, Number of dimensions of vector x.\n",
    "- Reshape the vector x to a matrix of size (3,1) and determine the number of dimensions after reshaping y to a matrix of (3,1).\n"
   ]
  },
  {
   "cell_type": "code",
   "execution_count": 38,
   "metadata": {},
   "outputs": [
    {
     "name": "stdout",
     "output_type": "stream",
     "text": [
      "x's shape is (3,), y's shape is (3,), they are one demension.\n",
      "\n",
      "(3, 1) \n",
      "\n",
      "[[ 2]\n",
      " [-1]\n",
      " [ 8]] \n",
      "\n",
      "The number of dimensions now is two.\n"
     ]
    }
   ],
   "source": [
    "x = np.array([2, -1, 8])\n",
    "y = np.array([3, 1, -2])\n",
    "x_shape = np.shape(x)\n",
    "y_shape = np.shape(y)\n",
    "print(f\"x's shape is {x_shape}, y's shape is {y_shape}, they are one demension.\\n\")\n",
    "\n",
    "reshapeX = x.reshape(3,1)\n",
    "print(np.shape(reshapeX),\"\\n\")\n",
    "print(reshapeX,\"\\n\")\n",
    "\n",
    "print(f\"The number of dimensions now is two.\")\n",
    "\n",
    "\n"
   ]
  },
  {
   "cell_type": "markdown",
   "metadata": {},
   "source": [
    "### 7.How does broadcasting work? Demonstrate the subtraction, multiplication by considering a 3 x 3 matrix.\n",
    "\n",
    "- How does broadcasting work? \n",
    "\n",
    "    > The term broadcasting describes how NumPy treats arrays with different shapes during arithmetic operations.\\\n",
    "    If I want to do a subtraction or multiplication on two array (3,3) */- (3,1) or (1,3), broadcasting would auto transfer the small array to fit the large one, like \\\n",
    "    [ [7], [1], [6] ] or [ [7, 1, 6] ] => [ [7, 7, 7], [1, 1, 1], [6, 6, 6] ]\\\n",
    "    to finish the operations (subtraction and multiplication)"
   ]
  },
  {
   "cell_type": "code",
   "execution_count": 39,
   "metadata": {},
   "outputs": [
    {
     "name": "stdout",
     "output_type": "stream",
     "text": [
      "[[8 1 9]\n",
      " [8 5 7]\n",
      " [6 4 8]] \n",
      "\n",
      "[[7]\n",
      " [1]\n",
      " [6]] \n",
      "\n",
      "[[3 4 2]] \n",
      "\n",
      "[[ 1 -6  2]\n",
      " [ 7  4  6]\n",
      " [ 0 -2  2]] \n",
      "\n",
      "[[56  7 63]\n",
      " [ 8  5  7]\n",
      " [36 24 48]]\n"
     ]
    }
   ],
   "source": [
    "threeXthree_M1 = np.random.randint(1, 10, size=(3,3))\n",
    "print(threeXthree_M1, \"\\n\")\n",
    "threeXthree_M2 = np.random.randint(1, 10, size=(3,1))\n",
    "print(threeXthree_M2, \"\\n\")\n",
    "threeXthree_M3 = np.random.randint(1, 10, size=(1,3))\n",
    "print(threeXthree_M3, \"\\n\")\n",
    "print(threeXthree_M1 - threeXthree_M2, \"\\n\")\n",
    "print(threeXthree_M1 * threeXthree_M2)"
   ]
  },
  {
   "cell_type": "markdown",
   "metadata": {},
   "source": [
    "## Part B- Linear Equations [15 Points]\n",
    "Determine the singularity of the system of equations, comment on the expected solution of the system.\n",
    "Solve the system of equations if possible. Justify the reason why you believe the system can or cannot be\n",
    "solved using NumPy functions.\n",
    "\n",
    "> I believe NumPy could find the solution of linear equations, but it might include non-integer results. If there is a restriction for only integer-type solutions, then perhaps other methods need to be considered. Additionally, there is a function called 'allclose' that can be used to verify the answer.\n",
    "\n",
    "> Then, it would return and raise a error called \"Singular matrix\" when the Linear Equation has no solution"
   ]
  },
  {
   "cell_type": "markdown",
   "metadata": {},
   "source": [
    "### Part B.1\n",
    "- 1. 4x + y - 2z = 10\n",
    "- 2. 2x - 3y + 2z = -4\n",
    "- 3. x + 2y + 3z = 6"
   ]
  },
  {
   "cell_type": "code",
   "execution_count": 40,
   "metadata": {},
   "outputs": [
    {
     "name": "stdout",
     "output_type": "stream",
     "text": [
      "[ 1.8  2.4 -0.2]\n"
     ]
    },
    {
     "data": {
      "text/plain": [
       "True"
      ]
     },
     "execution_count": 40,
     "metadata": {},
     "output_type": "execute_result"
    }
   ],
   "source": [
    "A = np.array([[4, 1, -2], [2, -3, 2], [1, 2, 3]])\n",
    "b = np.array([10, -4, 6])\n",
    "\n",
    "results = np.linalg.solve(A, b)\n",
    "print(results)\n",
    "\n",
    "np.allclose(np.dot(A, results), b)\n",
    "\n",
    "# A = np.array([[2, 5,], [5, 2]])\n",
    "# b = np.array([39, 24])\n",
    "\n",
    "# results = np.linalg.solve(A, b)\n",
    "# print(results)\n",
    "# np.allclose(np.dot(A, results), b)"
   ]
  },
  {
   "cell_type": "markdown",
   "metadata": {},
   "source": [
    "### Part B.2\n",
    "- 2x - y + 3z + 4w = 10\n",
    "- 4x - 2y + 6z + 8w = 20\n",
    "- 3x + y - 2z + 2w = 3\n",
    "- x + 3y - 4z + w = -1\n",
    "\n",
    "> This Linear Equation has no solution (sigular matrix), so it return and raise a error called \"Singular matrix\" like shown below."
   ]
  },
  {
   "cell_type": "code",
   "execution_count": 41,
   "metadata": {},
   "outputs": [
    {
     "ename": "LinAlgError",
     "evalue": "Singular matrix",
     "output_type": "error",
     "traceback": [
      "\u001b[1;31m---------------------------------------------------------------------------\u001b[0m",
      "\u001b[1;31mLinAlgError\u001b[0m                               Traceback (most recent call last)",
      "Cell \u001b[1;32mIn[41], line 4\u001b[0m\n\u001b[0;32m      1\u001b[0m A \u001b[38;5;241m=\u001b[39m np\u001b[38;5;241m.\u001b[39marray([[\u001b[38;5;241m2\u001b[39m, \u001b[38;5;241m-\u001b[39m\u001b[38;5;241m1\u001b[39m, \u001b[38;5;241m3\u001b[39m, \u001b[38;5;241m4\u001b[39m], [\u001b[38;5;241m4\u001b[39m, \u001b[38;5;241m-\u001b[39m\u001b[38;5;241m2\u001b[39m, \u001b[38;5;241m6\u001b[39m, \u001b[38;5;241m8\u001b[39m], [\u001b[38;5;241m3\u001b[39m, \u001b[38;5;241m1\u001b[39m, \u001b[38;5;241m-\u001b[39m\u001b[38;5;241m2\u001b[39m, \u001b[38;5;241m2\u001b[39m], [\u001b[38;5;241m1\u001b[39m, \u001b[38;5;241m3\u001b[39m, \u001b[38;5;241m-\u001b[39m\u001b[38;5;241m4\u001b[39m, \u001b[38;5;241m1\u001b[39m]])\n\u001b[0;32m      2\u001b[0m b \u001b[38;5;241m=\u001b[39m np\u001b[38;5;241m.\u001b[39marray([\u001b[38;5;241m10\u001b[39m, \u001b[38;5;241m20\u001b[39m, \u001b[38;5;241m3\u001b[39m, \u001b[38;5;241m-\u001b[39m\u001b[38;5;241m1\u001b[39m])\n\u001b[1;32m----> 4\u001b[0m results \u001b[38;5;241m=\u001b[39m \u001b[43mnp\u001b[49m\u001b[38;5;241;43m.\u001b[39;49m\u001b[43mlinalg\u001b[49m\u001b[38;5;241;43m.\u001b[39;49m\u001b[43msolve\u001b[49m\u001b[43m(\u001b[49m\u001b[43mA\u001b[49m\u001b[43m,\u001b[49m\u001b[43m \u001b[49m\u001b[43mb\u001b[49m\u001b[43m)\u001b[49m\n\u001b[0;32m      5\u001b[0m \u001b[38;5;28mprint\u001b[39m(results)\n\u001b[0;32m      7\u001b[0m np\u001b[38;5;241m.\u001b[39mallclose(np\u001b[38;5;241m.\u001b[39mdot(A, results), b)\n",
      "File \u001b[1;32mc:\\Users\\USER\\AppData\\Local\\Programs\\Python\\Python311\\Lib\\site-packages\\numpy\\linalg\\linalg.py:409\u001b[0m, in \u001b[0;36msolve\u001b[1;34m(a, b)\u001b[0m\n\u001b[0;32m    407\u001b[0m signature \u001b[38;5;241m=\u001b[39m \u001b[38;5;124m'\u001b[39m\u001b[38;5;124mDD->D\u001b[39m\u001b[38;5;124m'\u001b[39m \u001b[38;5;28;01mif\u001b[39;00m isComplexType(t) \u001b[38;5;28;01melse\u001b[39;00m \u001b[38;5;124m'\u001b[39m\u001b[38;5;124mdd->d\u001b[39m\u001b[38;5;124m'\u001b[39m\n\u001b[0;32m    408\u001b[0m extobj \u001b[38;5;241m=\u001b[39m get_linalg_error_extobj(_raise_linalgerror_singular)\n\u001b[1;32m--> 409\u001b[0m r \u001b[38;5;241m=\u001b[39m \u001b[43mgufunc\u001b[49m\u001b[43m(\u001b[49m\u001b[43ma\u001b[49m\u001b[43m,\u001b[49m\u001b[43m \u001b[49m\u001b[43mb\u001b[49m\u001b[43m,\u001b[49m\u001b[43m \u001b[49m\u001b[43msignature\u001b[49m\u001b[38;5;241;43m=\u001b[39;49m\u001b[43msignature\u001b[49m\u001b[43m,\u001b[49m\u001b[43m \u001b[49m\u001b[43mextobj\u001b[49m\u001b[38;5;241;43m=\u001b[39;49m\u001b[43mextobj\u001b[49m\u001b[43m)\u001b[49m\n\u001b[0;32m    411\u001b[0m \u001b[38;5;28;01mreturn\u001b[39;00m wrap(r\u001b[38;5;241m.\u001b[39mastype(result_t, copy\u001b[38;5;241m=\u001b[39m\u001b[38;5;28;01mFalse\u001b[39;00m))\n",
      "File \u001b[1;32mc:\\Users\\USER\\AppData\\Local\\Programs\\Python\\Python311\\Lib\\site-packages\\numpy\\linalg\\linalg.py:112\u001b[0m, in \u001b[0;36m_raise_linalgerror_singular\u001b[1;34m(err, flag)\u001b[0m\n\u001b[0;32m    111\u001b[0m \u001b[38;5;28;01mdef\u001b[39;00m \u001b[38;5;21m_raise_linalgerror_singular\u001b[39m(err, flag):\n\u001b[1;32m--> 112\u001b[0m     \u001b[38;5;28;01mraise\u001b[39;00m LinAlgError(\u001b[38;5;124m\"\u001b[39m\u001b[38;5;124mSingular matrix\u001b[39m\u001b[38;5;124m\"\u001b[39m)\n",
      "\u001b[1;31mLinAlgError\u001b[0m: Singular matrix"
     ]
    }
   ],
   "source": [
    "A = np.array([[2, -1, 3, 4], [4, -2, 6, 8], [3, 1, -2, 2], [1, 3, -4, 1]])\n",
    "b = np.array([10, 20, 3, -1])\n",
    "\n",
    "results = np.linalg.solve(A, b)\n",
    "print(results)\n",
    "\n",
    "np.allclose(np.dot(A, results), b)"
   ]
  }
 ],
 "metadata": {
  "kernelspec": {
   "display_name": "Python 3",
   "language": "python",
   "name": "python3"
  },
  "language_info": {
   "codemirror_mode": {
    "name": "ipython",
    "version": 3
   },
   "file_extension": ".py",
   "mimetype": "text/x-python",
   "name": "python",
   "nbconvert_exporter": "python",
   "pygments_lexer": "ipython3",
   "version": "3.11.7"
  }
 },
 "nbformat": 4,
 "nbformat_minor": 2
}
